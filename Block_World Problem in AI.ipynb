{
 "cells": [
  {
   "cell_type": "markdown",
   "metadata": {
    "id": "Mcpe5yunDpVT"
   },
   "source": [
    "### Aim:\n",
    "To solve the block world problem with the help of a* search and manhatton distance.\n",
    "\n",
    "\n",
    "                                      RA1811027010097\n",
    "                                        Jaya Durga V"
   ]
  },
  {
   "cell_type": "markdown",
   "metadata": {
    "id": "ErriUjuiD2S0"
   },
   "source": [
    "### Procedure:\n",
    "1. The input is initial state and goal state \n",
    "2. The goal is divided into sub goal states\n",
    "3. With the help of manhatton distance , the heuristic vaule is calculated and a* searching algorithm is applied .\n",
    "4. The goal state is reached with the least heuristic value and the output is printed with the number of moves. "
   ]
  },
  {
   "cell_type": "code",
   "execution_count": 1,
   "metadata": {
    "executionInfo": {
     "elapsed": 959,
     "status": "ok",
     "timestamp": 1619272358642,
     "user": {
      "displayName": "Jaya Durga V (RA1811027010097)",
      "photoUrl": "",
      "userId": "18195369978783536415"
     },
     "user_tz": -330
    },
    "id": "ZXXzX3IviP-Y"
   },
   "outputs": [],
   "source": [
    "import time\n",
    "from collections import deque\n",
    "\n",
    "\n",
    "def __astar_heuristic(F, goal_layout, blocks_keys):\n",
    "    \n",
    "    scores = []     #A list object containing the score of each state.\n",
    "\n",
    "    for state in F:\n",
    "        score = 0     #Initialize each score to 0.\n",
    "\n",
    "        for key in blocks_keys:     #For each block...\n",
    "            if state.layout[key] != goal_layout[key]:     #If it is not in its final position...\n",
    "                score += 1     #Add 1 to score.\n",
    "        \n",
    "        score += state.distance     #Add the distance from the root to score.\n",
    "        \n",
    "        scores.append(score)\n",
    "    \n",
    "    return scores.index(min(scores))     #Return the index of the state with the minimun score.\n",
    "\n",
    "\n",
    "def heuristic_search(current_state, goal_state, method, timeout = 60):\n",
    "    \n",
    "    if method == 'astar':     #If the keyword 'astar' is passed, the algorithm becomes the A* Search algorithm.\n",
    "        heuristic_function = __astar_heuristic\n",
    "\n",
    "    F = []     #A list fot storing the nodes/states.\n",
    "    discovered = set()     #A set for keeping the ids of the discovered states.\n",
    "    blocks_keys = list(current_state.layout.keys())     #A list with the names/keys of the blocks.\n",
    "\n",
    "    F.append(current_state)     #Add the current/initial state to the list.\n",
    "    discovered.add(current_state.id)     #Add the id of the state to the set.\n",
    "\n",
    "    st = time.perf_counter()     #Start a time counter.\n",
    "\n",
    "    while F:     #While F is not empty...\n",
    "        if time.perf_counter() - st > timeout:     #If the execution time exceeds the timeout...\n",
    "            print('Timeout!')\n",
    "            return None     #Break.\n",
    "\n",
    "        i = heuristic_function(F, goal_state.layout, blocks_keys)     #Return the index of the state with the minimum score in F.\n",
    "        state = F.pop(i)     #Pop the state with the minimum score.\n",
    "\n",
    "        if state == goal_state:     #If the state is the goal state, return it and break.\n",
    "            return state\n",
    "        \n",
    "        children = state.calcChildren()     #Else, calculate the children of this state.\n",
    "\n",
    "        for child in children:     #For each child...\n",
    "            if child.id not in discovered:     #If this child has not been discovered...\n",
    "                discovered.add(child.id)     #Mark it as discovered.\n",
    "                child.parent = state     #Set the parent attribute of the child to be the state that has been poped.\n",
    "\n",
    "                F.append(child)     #Append the child to F."
   ]
  },
  {
   "cell_type": "code",
   "execution_count": 2,
   "metadata": {
    "executionInfo": {
     "elapsed": 1028,
     "status": "ok",
     "timestamp": 1619269266789,
     "user": {
      "displayName": "Jaya Durga V (RA1811027010097)",
      "photoUrl": "",
      "userId": "18195369978783536415"
     },
     "user_tz": -330
    },
    "id": "5XdbBpM3i5XZ"
   },
   "outputs": [],
   "source": [
    "from copy import deepcopy\n",
    "\n",
    "class State:\n",
    "    \n",
    "    def __init__(self, layout, parent = None, move = [], distance = 0):\n",
    "        self.layout = layout\n",
    "        self.parent = parent\n",
    "        self.move = move\n",
    "        self.distance = distance\n",
    "\n",
    "        values = list(self.layout.values())     #A list of the names of the blocks.\n",
    "\n",
    "        self.id = ''.join([str(i) for s in values for i in s])     #Create the id attribute.\n",
    "    \n",
    "    def __eq__(self, other_state):\n",
    "        \"\"\"\n",
    "        Override the build-in __eq__ method. Two states are equal if and only if they have\n",
    "        the same id.\n",
    "        \"\"\"\n",
    "        if other_state != None:\n",
    "            return self.id == other_state.id\n",
    "        else:\n",
    "            return False\n",
    "\n",
    "    def calcChildren(self):\n",
    "        \"\"\"\n",
    "        The method creates a list of all the states that can be produced from a given state.\n",
    "        It moves all the clear blocks to all available destinations and creates a new state \n",
    "        for each alteration.\n",
    "        \"\"\"\n",
    "        layout = self.layout\n",
    "        children = []\n",
    "\n",
    "        free_blocks = [key for key in layout if layout[key][1] == 'c']     #The blocks that can be moved.\n",
    "\n",
    "        for moving_block in free_blocks:     #For each free block that will be moved...\n",
    "            for target_block in free_blocks:\n",
    "                if moving_block != target_block:\n",
    "                    temp = deepcopy(layout)     #Copy the current layout in order to alter it.\n",
    "                    move = []\n",
    "                    distance = 0\n",
    "\n",
    "                    released_block = temp[moving_block][0]     #The 'released_block' is the first item of the list in layout with key == moving_block.\n",
    "\n",
    "                    temp[moving_block][0] = target_block     #The 'moving block' now is on top of the 'target_block'.\n",
    "                    temp[target_block][1] = 'u'     #And the 'target_block' is now unclear.\n",
    "\n",
    "                    move.append(moving_block)     #Add the 'moving_block' to 'move' list.\n",
    "\n",
    "                    if released_block != '-':     #If the 'released_block\" is not '-' i.e. is not on the table...\n",
    "                        temp[released_block][1] = 'c'     #Set the block clear.\n",
    "\n",
    "                        move.append(released_block)     #Add the 'released_block' to 'move' list.\n",
    "                    else:\n",
    "                        move.append('table')\n",
    "                    \n",
    "                    move.append(target_block)     #Add the 'target_block' to 'move' list.\n",
    "                    distance = self.distance + 1     #The distance of the child is the distance of the parent plus 1.\n",
    "\n",
    "                    children.append(State(layout = temp, parent = self, move = move, distance = distance))     #Add to 'children' list a new State object.\n",
    "            \n",
    "            if layout[moving_block][0] != '-':     #If the 'moving_block' is not currently on the table, create a state that it is.\n",
    "                temp = deepcopy(layout)\n",
    "                move = []\n",
    "                distance = 0\n",
    "\n",
    "                released_block = temp[moving_block][0]     #The 'released_block' is the first item of the list in layout with key == moving_block.\n",
    "\n",
    "                temp[moving_block][0] = '-'\n",
    "                temp[released_block][1] = 'c'     #Set the block clear.\n",
    "\n",
    "                move.append(moving_block)     #Add the 'moving_block' to 'move' list.\n",
    "                move.append(released_block)      #Add the 'released_block' to 'move' list.\n",
    "                move.append('table')\n",
    "\n",
    "                distance = self.distance + 1     #The distance of the child is the distance of the parent plus 1.\n",
    "\n",
    "                children.append(State(layout = temp, parent = self, move = move, distance = distance))     #Add to 'children' list a new State object.\n",
    "        \n",
    "        return children     #Return the children list."
   ]
  },
  {
   "cell_type": "code",
   "execution_count": 6,
   "metadata": {
    "executionInfo": {
     "elapsed": 1273,
     "status": "ok",
     "timestamp": 1619271049728,
     "user": {
      "displayName": "Jaya Durga V (RA1811027010097)",
      "photoUrl": "",
      "userId": "18195369978783536415"
     },
     "user_tz": -330
    },
    "id": "9iOFSTl3jXzQ"
   },
   "outputs": [],
   "source": [
    "def read_input_file(filename):\n",
    "    \"\"\"\n",
    "    This function reads a problem file and returns two State objects, one for the initial\n",
    "    state and one for the goal state.\n",
    "    \"\"\"\n",
    "    with open('C:/Users/ADMIN/Documents/ai/lab/input.txt') as f:\n",
    "        lines = [line.split() for line in f]     #Read the file by line and split it.\n",
    "\n",
    "        blocks_names = lines[0][1:]     #Get the blocks names.\n",
    "        blocks_names[-1] = blocks_names[-1][:-1]     #Remove the parenthesis from the last block name.\n",
    "\n",
    "        initial = lines[1][1:-1]     #Get the initial state.\n",
    "        initial = [i.replace('(', '') for i in initial]     #Remove the parentheses.\n",
    "        initial = [i.replace(')', '') for i in initial]\n",
    "\n",
    "        goal = lines[2][2:]     #Get the goal state.\n",
    "        goal = [i.replace('(', '') for i in goal]     #Remove the parentheses.\n",
    "        goal = [i.replace(')', '') for i in goal]\n",
    "\n",
    "        initial_layout = {key: ['-', 'c'] for key in blocks_names}     #Construct the inital layout.\n",
    "        goal_layout = {key: ['-', 'c'] for key in blocks_names}     #Construct the goal layout.\n",
    "\n",
    "        for i in range(len(initial)):\n",
    "            if initial[i] == 'ON':\n",
    "                initial_layout[initial[i + 1]][0] = initial[i + 2]\n",
    "                initial_layout[initial[i + 2]][1] = 'u'\n",
    "        \n",
    "        for i in range(len(goal)):\n",
    "            if goal[i] == 'ON':\n",
    "                goal_layout[goal[i + 1]][0] = goal[i + 2]\n",
    "                goal_layout[goal[i + 2]][1] = 'u'\n",
    "\n",
    "    return State(layout = initial_layout), State(layout = goal_layout)     #Return two state objects.\n",
    "\n",
    "def write_output_file(solution, filename):\n",
    "    \"\"\"\n",
    "    This function is taking as arguments a State object which is a solution of the problem,\n",
    "    and a filename to write the steps towards the solution.\n",
    "    \"\"\"\n",
    "    current_state = solution     #The state we start, which is the last i.e. the solution.\n",
    "    path = []     #The path from the solution towards the intial state.\n",
    "    i = 1\n",
    "    \n",
    "    while True:\n",
    "        path.append(current_state)     #Add the current state i.e. solution, in the list.\n",
    "\n",
    "        current_state = current_state.parent     #The current state now becomes the parent of it.\n",
    "        \n",
    "        if current_state.parent == None:     #If the current state has no parent...\n",
    "            path.append(current_state)     #Add the current state in the list.\n",
    "            break\n",
    "    \n",
    "    path.reverse()     #Reverse the list.\n",
    "    \n",
    "    with open('C:/Users/ADMIN/Documents/ai/lab/input.txt', 'r') as f:     #Open the output file.\n",
    "        for state in path[1:]:     #For every state in the path, except the first one which is the initial state that has no previous move...\n",
    "            move = state.move     #Get the move.\n",
    "\n",
    "            print(str(i) + '. Move(' + move[0] + ', ' + move[1] + ', ' + move[2] + ')')     #Write the move.\n",
    "            i += 1     #Increment the counter.\n",
    "    \n",
    "    return len(path[1:])     #Return the number of steps."
   ]
  },
  {
   "cell_type": "code",
   "execution_count": 8,
   "metadata": {
    "colab": {
     "base_uri": "https://localhost:8080/"
    },
    "executionInfo": {
     "elapsed": 1387,
     "status": "ok",
     "timestamp": 1619271054419,
     "user": {
      "displayName": "Jaya Durga V (RA1811027010097)",
      "photoUrl": "",
      "userId": "18195369978783536415"
     },
     "user_tz": -330
    },
    "id": "XH2ej2REjdHA",
    "outputId": "09d9e986-36c4-4169-d73c-1b9c84c6019a"
   },
   "outputs": [
    {
     "name": "stdout",
     "output_type": "stream",
     "text": [
      "1. Move(E, D, table)\n",
      "2. Move(C, B, table)\n",
      "3. Move(D, table, C)\n",
      "4. Move(B, A, table)\n",
      "5. Move(A, table, E)\n",
      "Solution found!\n",
      "Number of blocks: 5\n",
      "Method: astar\n",
      "Number of moves: 5\n",
      "Execution time: 0.0203\n"
     ]
    }
   ],
   "source": [
    "import time\n",
    "import sys\n",
    "import os\n",
    "\n",
    "#from state import State\n",
    "#from searching import breadth_first_search, depth_first_search, heuristic_search\n",
    "#from utilities import read_input_file, write_output_file\n",
    "\n",
    "def main():\n",
    "    st = time.perf_counter()     #Start a time counter.\n",
    "    method = 'astar'    \n",
    "    initial_state, goal_state = read_input_file(filename = 'C:/Users/ADMIN/Documents/ai/lab/input.txt' )     #Read the input file and return two state objects.\n",
    "    \n",
    "    if method == 'astar':\n",
    "        solution = heuristic_search(current_state = initial_state, goal_state = goal_state, method = 'astar', timeout = 300)\n",
    "    else:     #If the method argument is none of the above, print a usage message.\n",
    "        solution = None\n",
    "        print('Usage: python bw.py <method> <input filename> <output filename>')\n",
    "\n",
    "    if solution == goal_state:     #If the solution is equal to the goal state...\n",
    "        number_of_moves = write_output_file(solution = solution, filename = 'C:/Users/ADMIN/Documents/ai/lab/input.txt')     #Write the solution file and return the number of moves.\n",
    "\n",
    "        print('Solution found!')\n",
    "        print('Number of blocks:', len(initial_state.layout.keys()))\n",
    "        print('Method:', method)\n",
    "        print('Number of moves:', number_of_moves)\n",
    "        print('Execution time:', str(round(time.perf_counter() - st, 4)))\n",
    "\n",
    "    else:     #Else, if the length of the keyword arguments is not equal to four, print a usage message.\n",
    "        print('Usage: python bw.py <method> <input filename> <output filename>')\n",
    "\n",
    "if __name__ == '__main__':\n",
    "\tmain()"
   ]
  },
  {
   "cell_type": "markdown",
   "metadata": {
    "id": "3uqAITWPK8MI"
   },
   "source": [
    "### Result :\n",
    "The block world problem has been successfully executed with the a* algorithm and output is verified ."
   ]
  }
 ],
 "metadata": {
  "colab": {
   "authorship_tag": "ABX9TyN4pGCL492T/Is+4/V77M/f",
   "collapsed_sections": [],
   "name": "block_world_097.ipynb",
   "provenance": []
  },
  "kernelspec": {
   "display_name": "Python 3",
   "language": "python",
   "name": "python3"
  },
  "language_info": {
   "codemirror_mode": {
    "name": "ipython",
    "version": 3
   },
   "file_extension": ".py",
   "mimetype": "text/x-python",
   "name": "python",
   "nbconvert_exporter": "python",
   "pygments_lexer": "ipython3",
   "version": "3.8.5"
  }
 },
 "nbformat": 4,
 "nbformat_minor": 1
}
